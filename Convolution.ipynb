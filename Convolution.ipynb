{
 "cells": [
  {
   "cell_type": "code",
   "execution_count": 1,
   "metadata": {},
   "outputs": [],
   "source": [
    "import numpy as np"
   ]
  },
  {
   "cell_type": "markdown",
   "metadata": {},
   "source": [
    "**Функция, возвращающая размерность выхода**"
   ]
  },
  {
   "cell_type": "code",
   "execution_count": 2,
   "metadata": {},
   "outputs": [],
   "source": [
    "def calc_out_shape(input_matrix_shape, out_channels, kernel_size, stride, padding):\n",
    "    input_matrix_shape[2] = (input_matrix_shape[2] + 2*padding - (kernel_size - 1) - 1) // stride + 1\n",
    "    input_matrix_shape[3] = (input_matrix_shape[3] + 2*padding - (kernel_size - 1) - 1) // stride + 1\n",
    "    input_matrix_shape[1] = out_channels\n",
    "    return input_matrix_shape"
   ]
  },
  {
   "cell_type": "code",
   "execution_count": 3,
   "metadata": {},
   "outputs": [
    {
     "data": {
      "text/plain": [
       "[2, 10, 8, 8]"
      ]
     },
     "execution_count": 3,
     "metadata": {},
     "output_type": "execute_result"
    }
   ],
   "source": [
    "calc_out_shape(input_matrix_shape=[2, 3, 10, 10],\n",
    "               out_channels=10,\n",
    "               kernel_size=3,\n",
    "               stride=1,\n",
    "               padding=0)"
   ]
  },
  {
   "cell_type": "markdown",
   "metadata": {},
   "source": [
    "**Функцию, добавляющая padding**"
   ]
  },
  {
   "cell_type": "code",
   "execution_count": 4,
   "metadata": {},
   "outputs": [],
   "source": [
    "def get_padding2d(input_images):\n",
    "    padded_images = torch.zeros([2, 3, 5, 5], dtype=torch.float32)\n",
    "    padded_images[:, :, 1:-1, 1:-1] += input_images[:, :, :, :].type(torch.FloatTensor)\n",
    "    return padded_images"
   ]
  },
  {
   "cell_type": "markdown",
   "metadata": {},
   "source": [
    "**Реализации сверточного слоя через циклы**"
   ]
  },
  {
   "cell_type": "code",
   "execution_count": 5,
   "metadata": {},
   "outputs": [],
   "source": [
    "import torch\n",
    "from abc import ABC, abstractmethod\n",
    "\n",
    "\n",
    "class ABCConv2d(ABC):\n",
    "    def __init__(self, in_channels, out_channels, kernel_size, stride):\n",
    "        self.in_channels = in_channels\n",
    "        self.out_channels = out_channels\n",
    "        self.kernel_size = kernel_size\n",
    "        self.stride = stride\n",
    "\n",
    "    def set_kernel(self, kernel):\n",
    "        self.kernel = kernel\n",
    "\n",
    "    @abstractmethod\n",
    "    def __call__(self, input_tensor):\n",
    "        pass\n",
    "\n",
    "\n",
    "class Conv2d(ABCConv2d):\n",
    "    def __init__(self, in_channels, out_channels, kernel_size, stride):\n",
    "        self.conv2d = torch.nn.Conv2d(in_channels, out_channels, kernel_size,\n",
    "                                      stride, padding=0, bias=False)\n",
    "\n",
    "    def set_kernel(self, kernel):\n",
    "        self.conv2d.weight.data = kernel\n",
    "\n",
    "    def __call__(self, input_tensor):\n",
    "        return self.conv2d(input_tensor)\n",
    "\n",
    "\n",
    "def create_and_call_conv2d_layer(conv2d_layer_class, stride, kernel, input_matrix):\n",
    "    out_channels = kernel.shape[0]\n",
    "    in_channels = kernel.shape[1]\n",
    "    kernel_size = kernel.shape[2]\n",
    "\n",
    "    layer = conv2d_layer_class(in_channels, out_channels, kernel_size, stride)\n",
    "    layer.set_kernel(kernel)\n",
    "\n",
    "    return layer(input_matrix)\n",
    "\n",
    "\n",
    "def test_conv2d_layer(conv2d_layer_class, batch_size=2,\n",
    "                      input_height=4, input_width=4, stride=2):\n",
    "    kernel = torch.tensor(\n",
    "                      [[[[0., 1, 0],\n",
    "                         [1,  2, 1],\n",
    "                         [0,  1, 0]],\n",
    "\n",
    "                        [[1, 2, 1],\n",
    "                         [0, 3, 3],\n",
    "                         [0, 1, 10]],\n",
    "\n",
    "                        [[10, 11, 12],\n",
    "                         [13, 14, 15],\n",
    "                         [16, 17, 18]]]])\n",
    "\n",
    "    in_channels = kernel.shape[1]\n",
    "\n",
    "    input_tensor = torch.arange(0, batch_size * in_channels *\n",
    "                                input_height * input_width,\n",
    "                                out=torch.FloatTensor()) \\\n",
    "        .reshape(batch_size, in_channels, input_height, input_width)\n",
    "\n",
    "    custom_conv2d_out = create_and_call_conv2d_layer(\n",
    "        conv2d_layer_class, stride, kernel, input_tensor)\n",
    "    conv2d_out = create_and_call_conv2d_layer(\n",
    "        Conv2d, stride, kernel, input_tensor)\n",
    "\n",
    "    return torch.allclose(custom_conv2d_out, conv2d_out) \\\n",
    "             and (custom_conv2d_out.shape == conv2d_out.shape)\n",
    "\n",
    "\n",
    "# Сверточный слой через циклы.\n",
    "class Conv2dLoop(ABCConv2d):\n",
    "    def __init__(self, in_channels, out_channels, kernel_size, stride):\n",
    "        self.in_channels = in_channels\n",
    "        self.out_channels = out_channels\n",
    "        self.kernel_size = kernel_size\n",
    "        self.stride = stride\n",
    "        \n",
    "    def set_kernel(self, kernel):\n",
    "        self.kernel = kernel\n",
    "    \n",
    "    def __call__(self, input_tensor):\n",
    "        \n",
    "        input_height = input_tensor.shape[2]\n",
    "        input_width = input_tensor.shape[3]\n",
    "        batch_size = input_tensor.shape[0]\n",
    "        \n",
    "        output_height = (input_height - (self.kernel_size - 1) - 1) // self.stride + 1\n",
    "        output_width = (input_width - (self.kernel_size - 1) - 1) // self.stride + 1\n",
    "\n",
    "        output_tensor = torch.zeros(batch_size * self.out_channels * self.in_channels * output_height * output_width, out=torch.FloatTensor())\n",
    "        k = 0\n",
    "\n",
    "        for batch in range(batch_size):\n",
    "            for out_channel in range(self.out_channels):\n",
    "                for in_channel in range(self.in_channels):\n",
    "                    tens = input_tensor[batch][in_channel]\n",
    "                    kern = self.kernel[out_channel][in_channel]\n",
    "                    for i in range(0, input_height, self.stride):\n",
    "                        for j in range(0, input_width, self.stride):\n",
    "                            candidat = tens[i:self.kernel_size+i, j:self.kernel_size+j]\n",
    "                            if candidat.shape[0] == self.kernel_size and candidat.shape[1] == self.kernel_size:\n",
    "                                point = (candidat * kern).sum().item()\n",
    "                                output_tensor[k] = point\n",
    "                                k += 1\n",
    "        output_tensor = output_tensor.reshape(batch_size, self.in_channels, output_height, output_width).sum(dim=1, keepdim=True)        \n",
    "\n",
    "        return output_tensor"
   ]
  },
  {
   "cell_type": "code",
   "execution_count": 6,
   "metadata": {},
   "outputs": [
    {
     "name": "stdout",
     "output_type": "stream",
     "text": [
      "True\n"
     ]
    }
   ],
   "source": [
    "print(test_conv2d_layer(Conv2dLoop))"
   ]
  },
  {
   "cell_type": "code",
   "execution_count": null,
   "metadata": {},
   "outputs": [],
   "source": []
  }
 ],
 "metadata": {
  "kernelspec": {
   "display_name": "Python 3",
   "language": "python",
   "name": "python3"
  },
  "language_info": {
   "codemirror_mode": {
    "name": "ipython",
    "version": 3
   },
   "file_extension": ".py",
   "mimetype": "text/x-python",
   "name": "python",
   "nbconvert_exporter": "python",
   "pygments_lexer": "ipython3",
   "version": "3.8.5"
  }
 },
 "nbformat": 4,
 "nbformat_minor": 4
}
